{
 "cells": [
  {
   "cell_type": "code",
   "execution_count": 31,
   "metadata": {
    "collapsed": true
   },
   "outputs": [
    {
     "name": "stdout",
     "output_type": "stream",
     "text": [
      "tensor([[1., 1.],\n        [1., 1.]])\ntensor([[1., 1.],\n        [1., 1.]], requires_grad=True)\nNone\n"
     ]
    }
   ],
   "source": [
    "import torch\n",
    "x = torch.ones(2,2)\n",
    "print(x)\n",
    "x = torch.ones(2,2, requires_grad=True)\n",
    "print(x)\n",
    "print(x.grad_fn)\n",
    "# grad_fn是执行操作的过程中得到的一个参数，如果用户自己新建的变量，则grad_fn的取值为None\n",
    "# grad_fn表示的是各种操作（加减乘除、求均值、求和等）\n",
    "# x = x * 2\n",
    "# print(x)"
   ]
  },
  {
   "cell_type": "code",
   "execution_count": 32,
   "metadata": {},
   "outputs": [
    {
     "name": "stdout",
     "output_type": "stream",
     "text": [
      "tensor([[3., 3.],\n        [3., 3.]], grad_fn=<AddBackward0>)\n<AddBackward0 object at 0x000002AA052DCBA8>\ntensor([[2., 2.],\n        [2., 2.]], grad_fn=<SubBackward0>)\n<SubBackward0 object at 0x000002AA052DCBE0>\n"
     ]
    }
   ],
   "source": [
    "y = x + 2\n",
    "print(y)\n",
    "print(y.grad_fn)\n",
    "w = y - 1\n",
    "print(w)\n",
    "print(w.grad_fn) # "
   ]
  },
  {
   "cell_type": "code",
   "execution_count": 33,
   "metadata": {},
   "outputs": [
    {
     "name": "stdout",
     "output_type": "stream",
     "text": [
      "tensor([[27., 27.],\n        [27., 27.]], grad_fn=<MulBackward0>) tensor(27., grad_fn=<MeanBackward1>)\n------------\ntensor([[27., 27.],\n        [27., 27.]], grad_fn=<MulBackward0>)\ntensor(27., grad_fn=<MeanBackward1>)\n"
     ]
    }
   ],
   "source": [
    "z = y * y * 3\n",
    "out = z.mean() # 所有元素的均值\n",
    "print(z, out)\n",
    "print(\"------------\")\n",
    "print(z) \n",
    "print(out) # out包含单个标量"
   ]
  },
  {
   "cell_type": "code",
   "execution_count": 34,
   "metadata": {},
   "outputs": [
    {
     "name": "stdout",
     "output_type": "stream",
     "text": [
      "False\nTrue\n<SumBackward0 object at 0x000002AA052DCF98>\n"
     ]
    }
   ],
   "source": [
    "a = torch.randn(2,2)\n",
    "a = ((a * 3) / (a - 1))\n",
    "print(a.requires_grad)\n",
    "a.requires_grad_(True)\n",
    "print(a.requires_grad)\n",
    "b = (a * a).sum()\n",
    "print(b.grad_fn)"
   ]
  },
  {
   "cell_type": "code",
   "execution_count": 35,
   "metadata": {},
   "outputs": [
    {
     "name": "stdout",
     "output_type": "stream",
     "text": [
      "tensor([[4.5000, 4.5000],\n        [4.5000, 4.5000]])\n"
     ]
    }
   ],
   "source": [
    "# out.backward() # 在这里和out.backward(torch.tensor(1.))效果一样\n",
    "out.backward(torch.tensor(1.))\n",
    "print(x.grad)\n",
    "# print(y.grad)"
   ]
  },
  {
   "cell_type": "code",
   "execution_count": 36,
   "metadata": {},
   "outputs": [
    {
     "name": "stdout",
     "output_type": "stream",
     "text": [
      "tensor([0.9613, 0.0702, 0.1116], requires_grad=True)\ntensor([1968.8187,  143.8361,  228.5327], grad_fn=<MulBackward0>)\n"
     ]
    }
   ],
   "source": [
    "x = torch.randn(3, requires_grad=True)\n",
    "y = x * 2\n",
    "print(x)\n",
    "# https://stackoverflow.com/questions/50753477/what-does-data-norm-1000-do-in-pytorch\n",
    "# data.norm是基本的l2范数\n",
    "while y.data.norm() < 1000:\n",
    "    y = y * 2\n",
    "    \n",
    "print(y)"
   ]
  },
  {
   "cell_type": "code",
   "execution_count": 37,
   "metadata": {},
   "outputs": [
    {
     "name": "stdout",
     "output_type": "stream",
     "text": [
      "tensor([2.0480e+02, 2.0480e+03, 2.0480e-01])\n"
     ]
    }
   ],
   "source": [
    "v = torch.tensor([0.1, 1.0, 0.0001],dtype=torch.float)\n",
    "y.backward(v)\n",
    "print(x.grad)"
   ]
  },
  {
   "cell_type": "code",
   "execution_count": 17,
   "metadata": {},
   "outputs": [
    {
     "name": "stdout",
     "output_type": "stream",
     "text": [
      "True\nTrue\nFalse\n"
     ]
    }
   ],
   "source": [
    "print(x.requires_grad)\n",
    "print((x**2).requires_grad)\n",
    "\n",
    "with torch.no_grad():\n",
    "    print((x**2).requires_grad)"
   ]
  },
  {
   "cell_type": "code",
   "execution_count": 27,
   "metadata": {},
   "outputs": [
    {
     "name": "stdout",
     "output_type": "stream",
     "text": [
      "tensor([-1.4673,  0.7257,  0.3235])\ntensor(1.6686)\ntensor([2.1530, 0.5266, 0.1047], grad_fn=<PowBackward0>)\ntensor(2.7843, grad_fn=<SumBackward0>)\ntensor(1.6686, grad_fn=<SqrtBackward>)\n"
     ]
    }
   ],
   "source": [
    "# l2范数data.norm()\n",
    "a = torch.randn(3, requires_grad=True)\n",
    "b = a * 2\n",
    "print(b.data)\n",
    "print(b.data.norm())\n",
    "print(torch.pow(b,2))\n",
    "print(torch.sum(torch.pow(b, 2)))\n",
    "print(torch.sqrt(torch.sum(torch.pow(b, 2))))\n"
   ]
  },
  {
   "cell_type": "code",
   "execution_count": null,
   "metadata": {},
   "outputs": [],
   "source": []
  }
 ],
 "metadata": {
  "kernelspec": {
   "display_name": "Python 2",
   "language": "python",
   "name": "python2"
  },
  "language_info": {
   "codemirror_mode": {
    "name": "ipython",
    "version": 2
   },
   "file_extension": ".py",
   "mimetype": "text/x-python",
   "name": "python",
   "nbconvert_exporter": "python",
   "pygments_lexer": "ipython2",
   "version": "2.7.6"
  }
 },
 "nbformat": 4,
 "nbformat_minor": 0
}
